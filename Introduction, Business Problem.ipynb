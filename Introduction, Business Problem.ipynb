{
 "cells": [
  {
   "cell_type": "markdown",
   "metadata": {},
   "source": [
    "# Investment opportunity in Regina, Saskatchewan, Canada."
   ]
  },
  {
   "cell_type": "markdown",
   "metadata": {},
   "source": [
    "#### Regina is the capital city of the province of Saskatchewan, in Canada. In the heart of the prairies, Regina is a multicultural hub in the province, and it has room for venues with different ethnicity roots to prosper. "
   ]
  },
  {
   "cell_type": "markdown",
   "metadata": {},
   "source": [
    "The motivation behind this study is to find potential investment opportunities in Regina. Using different data sources, this study aims to combine different perspectives in regards to where to establish a new venture and what kind of venture an entrepreneur could invest when thinking of opening a business in Regina."
   ]
  },
  {
   "cell_type": "markdown",
   "metadata": {},
   "source": [
    "##### Target Audience:\n",
    "This study is targeted to entrepreneurs, venture capitalist or investors looking for business opportunities."
   ]
  },
  {
   "cell_type": "markdown",
   "metadata": {},
   "source": [
    "##### Question problem:\n",
    "What kind of venue and in which area of the city would a business most likely succeed in Regina?\n"
   ]
  },
  {
   "cell_type": "markdown",
   "metadata": {},
   "source": []
  }
 ],
 "metadata": {
  "kernelspec": {
   "display_name": "Python 3",
   "language": "python",
   "name": "python3"
  },
  "language_info": {
   "codemirror_mode": {
    "name": "ipython",
    "version": 3
   },
   "file_extension": ".py",
   "mimetype": "text/x-python",
   "name": "python",
   "nbconvert_exporter": "python",
   "pygments_lexer": "ipython3",
   "version": "3.8.5"
  }
 },
 "nbformat": 4,
 "nbformat_minor": 4
}
