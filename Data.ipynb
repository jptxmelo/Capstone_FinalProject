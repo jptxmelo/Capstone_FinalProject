{
 "cells": [
  {
   "cell_type": "markdown",
   "metadata": {},
   "source": [
    "# Data"
   ]
  },
  {
   "cell_type": "markdown",
   "metadata": {},
   "source": [
    "### In this section I will describe where different data will be collected for the completion of this assignment"
   ]
  },
  {
   "cell_type": "markdown",
   "metadata": {},
   "source": [
    "This study will collect two main fields of data:\n",
    "\n",
    "**Geospatial data**, \n",
    "\n",
    "which focuses on getting the geospatial coordinates, city areas postal codes and info about venues around each area.\n",
    "\n",
    "**Demographics data**,\n",
    "\n",
    "which focuses in understanding more about the population of Regina and how it is distributed around the city."
   ]
  },
  {
   "cell_type": "markdown",
   "metadata": {},
   "source": [
    "### Geospatial Data\n",
    "To analyze the geospatial data from Regina, including its venues I will rely on:\n",
    "\n",
    "https://www.geonames.org/postalcode-search.html?q=regina&country=CA&adminCode1=SK - To provide the available Postal Codes and Area Names of the city\n",
    "\n",
    "https://www.google.com - to collect the exact coordinates from each of the previous collected postal codes.\n",
    "\n",
    "And then, using **FourSquare API Data** I will use the above mentioned coordinates to collect data from different venues located around the city, using a range of 700 to provide a broader idea of each area of the city. "
   ]
  },
  {
   "cell_type": "markdown",
   "metadata": {},
   "source": [
    "### Demographics\n",
    "\n",
    "I will collect the more info about the demographics of Regina, using the **Census of 2016**, provided by Stats Canada. \n",
    "\n",
    "Available on:https://www12.statcan.gc.ca/census-recensement/2016/dp-pd/prof/details/page.cfm?Lang=E&Geo1=POPC&Code1=0698&Geo2=PR&Code2=47&SearchText=Regina&SearchType=Begins&SearchPR=01&B1=All&GeoLevel=PR&GeoCode=0698&TABID=1&type=0\n",
    "\n",
    "And also the **website of the City of Regina**, which provides a detailed profile from areas of the city. \n",
    "\n",
    "Available on:https://www.regina.ca/about-regina/neighbourhood-profiles/"
   ]
  },
  {
   "cell_type": "code",
   "execution_count": null,
   "metadata": {},
   "outputs": [],
   "source": []
  }
 ],
 "metadata": {
  "kernelspec": {
   "display_name": "Python 3",
   "language": "python",
   "name": "python3"
  },
  "language_info": {
   "codemirror_mode": {
    "name": "ipython",
    "version": 3
   },
   "file_extension": ".py",
   "mimetype": "text/x-python",
   "name": "python",
   "nbconvert_exporter": "python",
   "pygments_lexer": "ipython3",
   "version": "3.8.5"
  }
 },
 "nbformat": 4,
 "nbformat_minor": 4
}
