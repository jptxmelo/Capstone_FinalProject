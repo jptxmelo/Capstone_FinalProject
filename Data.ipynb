{
 "cells": [
  {
   "cell_type": "markdown",
   "metadata": {},
   "source": [
    "# Data"
   ]
  },
  {
   "cell_type": "markdown",
   "metadata": {},
   "source": [
    "### In this section I will describe where different data will be collected for the completion of this assignment"
   ]
  },
  {
   "cell_type": "markdown",
   "metadata": {},
   "source": [
    "#### Geospatial Data\n",
    "To analyze the geospatial data from Regina, including its venues I will rely on:\n",
    "https://www.geonames.org/postalcode-search.html?q=regina&country=CA&adminCode1=SK - To provide the available Postal Codes and Area Names of the city\n",
    "https://www.google.com - to collect the exact coordinates from each of the previous collected postal codes.\n",
    "\n",
    "I will also rely on foursquare to gather information available on the venues and their location. "
   ]
  },
  {
   "cell_type": "markdown",
   "metadata": {},
   "source": [
    "### Demographics\n",
    "To get a better idea of the demographics from Regina, I will rely on the census of 2016 available on: https://www12.statcan.gc.ca/census-recensement/2016/dp-pd/prof/details/page.cfm?Lang=E&Geo1=POPC&Code1=0698&Geo2=PR&Code2=47&SearchText=Regina&SearchType=Begins&SearchPR=01&B1=All&GeoLevel=PR&GeoCode=0698&TABID=1&type=0\n",
    "\n",
    "And also https://www.regina.ca/about-regina/neighbourhood-profiles/ to collect a better profile from areas of the city."
   ]
  },
  {
   "cell_type": "code",
   "execution_count": null,
   "metadata": {},
   "outputs": [],
   "source": []
  }
 ],
 "metadata": {
  "kernelspec": {
   "display_name": "Python 3",
   "language": "python",
   "name": "python3"
  },
  "language_info": {
   "codemirror_mode": {
    "name": "ipython",
    "version": 3
   },
   "file_extension": ".py",
   "mimetype": "text/x-python",
   "name": "python",
   "nbconvert_exporter": "python",
   "pygments_lexer": "ipython3",
   "version": "3.8.5"
  }
 },
 "nbformat": 4,
 "nbformat_minor": 4
}
